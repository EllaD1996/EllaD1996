{
 "cells": [
  {
   "cell_type": "code",
   "execution_count": 1,
   "id": "391b9916-8976-4430-9744-fe2ecba6458d",
   "metadata": {},
   "outputs": [],
   "source": [
    "%load_ext autoreload\n",
    "%autoreload 2"
   ]
  },
  {
   "cell_type": "code",
   "execution_count": 2,
   "id": "b18aa990-5284-4fc1-8f63-b49a4f08c0e9",
   "metadata": {},
   "outputs": [
    {
     "name": "stdout",
     "output_type": "stream",
     "text": [
      "Collecting mlflow\n",
      "  Using cached mlflow-1.30.0-py3-none-any.whl (17.0 MB)\n",
      "Collecting databricks-cli<1,>=0.8.7\n",
      "  Using cached databricks_cli-0.17.3-py3-none-any.whl\n",
      "Collecting querystring-parser<2\n",
      "  Using cached querystring_parser-1.2.4-py2.py3-none-any.whl (7.9 kB)\n",
      "Collecting Flask<3\n",
      "  Using cached Flask-2.2.2-py3-none-any.whl (101 kB)\n",
      "Requirement already satisfied: packaging<22 in /opt/conda/lib/python3.7/site-packages (from mlflow) (21.3)\n",
      "Requirement already satisfied: importlib-metadata!=4.7.0,<6,>=3.7.0 in /opt/conda/lib/python3.7/site-packages (from mlflow) (4.11.4)\n",
      "Requirement already satisfied: docker<7,>=4.0.0 in /opt/conda/lib/python3.7/site-packages (from mlflow) (6.0.0)\n",
      "Requirement already satisfied: pyyaml<7,>=5.1 in /opt/conda/lib/python3.7/site-packages (from mlflow) (6.0)\n",
      "Requirement already satisfied: requests<3,>=2.17.3 in /opt/conda/lib/python3.7/site-packages (from mlflow) (2.28.1)\n",
      "Collecting alembic<2\n",
      "  Using cached alembic-1.8.1-py3-none-any.whl (209 kB)\n",
      "Requirement already satisfied: sqlparse<1,>=0.4.0 in /opt/conda/lib/python3.7/site-packages (from mlflow) (0.4.3)\n",
      "Requirement already satisfied: scipy<2 in /opt/conda/lib/python3.7/site-packages (from mlflow) (1.7.3)\n",
      "Requirement already satisfied: entrypoints<1 in /opt/conda/lib/python3.7/site-packages (from mlflow) (0.4)\n",
      "Requirement already satisfied: numpy<2 in /opt/conda/lib/python3.7/site-packages (from mlflow) (1.21.6)\n",
      "Requirement already satisfied: pytz<2023 in /opt/conda/lib/python3.7/site-packages (from mlflow) (2022.5)\n",
      "Collecting prometheus-flask-exporter<1\n",
      "  Using cached prometheus_flask_exporter-0.21.0-py3-none-any.whl (18 kB)\n",
      "Requirement already satisfied: protobuf<5,>=3.12.0 in /opt/conda/lib/python3.7/site-packages (from mlflow) (4.21.8)\n",
      "Requirement already satisfied: click<9,>=7.0 in /opt/conda/lib/python3.7/site-packages (from mlflow) (8.1.3)\n",
      "Requirement already satisfied: sqlalchemy<2,>=1.4.0 in /opt/conda/lib/python3.7/site-packages (from mlflow) (1.4.42)\n",
      "Requirement already satisfied: gitpython<4,>=2.1.0 in /opt/conda/lib/python3.7/site-packages (from mlflow) (3.1.29)\n",
      "Requirement already satisfied: pandas<2 in /opt/conda/lib/python3.7/site-packages (from mlflow) (1.3.5)\n",
      "Collecting gunicorn<21\n",
      "  Using cached gunicorn-20.1.0-py3-none-any.whl (79 kB)\n",
      "Requirement already satisfied: cloudpickle<3 in /opt/conda/lib/python3.7/site-packages (from mlflow) (2.1.0)\n",
      "Collecting Mako\n",
      "  Using cached Mako-1.2.4-py3-none-any.whl (78 kB)\n",
      "Requirement already satisfied: importlib-resources in /opt/conda/lib/python3.7/site-packages (from alembic<2->mlflow) (5.10.0)\n",
      "Requirement already satisfied: pyjwt>=1.7.0 in /opt/conda/lib/python3.7/site-packages (from databricks-cli<1,>=0.8.7->mlflow) (2.6.0)\n",
      "Requirement already satisfied: six>=1.10.0 in /opt/conda/lib/python3.7/site-packages (from databricks-cli<1,>=0.8.7->mlflow) (1.16.0)\n",
      "Collecting tabulate>=0.7.7\n",
      "  Using cached tabulate-0.9.0-py3-none-any.whl (35 kB)\n",
      "Requirement already satisfied: oauthlib>=3.1.0 in /opt/conda/lib/python3.7/site-packages (from databricks-cli<1,>=0.8.7->mlflow) (3.2.2)\n",
      "Requirement already satisfied: urllib3>=1.26.0 in /opt/conda/lib/python3.7/site-packages (from docker<7,>=4.0.0->mlflow) (1.26.11)\n",
      "Requirement already satisfied: websocket-client>=0.32.0 in /opt/conda/lib/python3.7/site-packages (from docker<7,>=4.0.0->mlflow) (1.4.1)\n",
      "Requirement already satisfied: Jinja2>=3.0 in /opt/conda/lib/python3.7/site-packages (from Flask<3->mlflow) (3.1.2)\n",
      "Collecting itsdangerous>=2.0\n",
      "  Using cached itsdangerous-2.1.2-py3-none-any.whl (15 kB)\n",
      "Requirement already satisfied: Werkzeug>=2.2.2 in /opt/conda/lib/python3.7/site-packages (from Flask<3->mlflow) (2.2.2)\n",
      "Requirement already satisfied: gitdb<5,>=4.0.1 in /opt/conda/lib/python3.7/site-packages (from gitpython<4,>=2.1.0->mlflow) (4.0.9)\n",
      "Requirement already satisfied: typing-extensions>=3.7.4.3 in /opt/conda/lib/python3.7/site-packages (from gitpython<4,>=2.1.0->mlflow) (4.4.0)\n",
      "Requirement already satisfied: setuptools>=3.0 in /opt/conda/lib/python3.7/site-packages (from gunicorn<21->mlflow) (59.8.0)\n",
      "Requirement already satisfied: zipp>=0.5 in /opt/conda/lib/python3.7/site-packages (from importlib-metadata!=4.7.0,<6,>=3.7.0->mlflow) (3.10.0)\n",
      "Requirement already satisfied: pyparsing!=3.0.5,>=2.0.2 in /opt/conda/lib/python3.7/site-packages (from packaging<22->mlflow) (3.0.9)\n",
      "Requirement already satisfied: python-dateutil>=2.7.3 in /opt/conda/lib/python3.7/site-packages (from pandas<2->mlflow) (2.8.2)\n",
      "Requirement already satisfied: prometheus-client in /opt/conda/lib/python3.7/site-packages (from prometheus-flask-exporter<1->mlflow) (0.15.0)\n",
      "Requirement already satisfied: certifi>=2017.4.17 in /opt/conda/lib/python3.7/site-packages (from requests<3,>=2.17.3->mlflow) (2022.9.24)\n",
      "Requirement already satisfied: idna<4,>=2.5 in /opt/conda/lib/python3.7/site-packages (from requests<3,>=2.17.3->mlflow) (3.4)\n",
      "Requirement already satisfied: charset-normalizer<3,>=2 in /opt/conda/lib/python3.7/site-packages (from requests<3,>=2.17.3->mlflow) (2.1.1)\n",
      "Requirement already satisfied: greenlet!=0.4.17 in /opt/conda/lib/python3.7/site-packages (from sqlalchemy<2,>=1.4.0->mlflow) (1.1.3)\n",
      "Requirement already satisfied: smmap<6,>=3.0.1 in /opt/conda/lib/python3.7/site-packages (from gitdb<5,>=4.0.1->gitpython<4,>=2.1.0->mlflow) (3.0.5)\n",
      "Requirement already satisfied: MarkupSafe>=2.0 in /opt/conda/lib/python3.7/site-packages (from Jinja2>=3.0->Flask<3->mlflow) (2.1.1)\n",
      "Installing collected packages: tabulate, querystring-parser, itsdangerous, gunicorn, Mako, Flask, databricks-cli, alembic, prometheus-flask-exporter, mlflow\n",
      "Successfully installed Flask-2.2.2 Mako-1.2.4 alembic-1.8.1 databricks-cli-0.17.3 gunicorn-20.1.0 itsdangerous-2.1.2 mlflow-1.30.0 prometheus-flask-exporter-0.21.0 querystring-parser-1.2.4 tabulate-0.9.0\n"
     ]
    }
   ],
   "source": [
    "!pip install mlflow"
   ]
  },
  {
   "cell_type": "code",
   "execution_count": 3,
   "id": "af62578c-6c20-4332-ae21-6e3f66d4e4c5",
   "metadata": {},
   "outputs": [
    {
     "name": "stderr",
     "output_type": "stream",
     "text": [
      "2022-12-05 09:40:47.523367: I tensorflow/core/platform/cpu_feature_guard.cc:193] This TensorFlow binary is optimized with oneAPI Deep Neural Network Library (oneDNN) to use the following CPU instructions in performance-critical operations:  AVX2 AVX512F FMA\n",
      "To enable them in other operations, rebuild TensorFlow with the appropriate compiler flags.\n",
      "2022-12-05 09:40:50.592927: E tensorflow/stream_executor/cuda/cuda_blas.cc:2981] Unable to register cuBLAS factory: Attempting to register factory for plugin cuBLAS when one has already been registered\n",
      "2022-12-05 09:40:56.352547: W tensorflow/stream_executor/platform/default/dso_loader.cc:64] Could not load dynamic library 'libnvinfer.so.7'; dlerror: libnvinfer.so.7: cannot open shared object file: No such file or directory; LD_LIBRARY_PATH: /usr/local/cuda/lib64:/usr/local/cuda/lib:/usr/local/lib/x86_64-linux-gnu:/usr/local/nvidia/lib:/usr/local/nvidia/lib64:/usr/local/nvidia/lib:/usr/local/nvidia/lib64\n",
      "2022-12-05 09:40:56.352910: W tensorflow/stream_executor/platform/default/dso_loader.cc:64] Could not load dynamic library 'libnvinfer_plugin.so.7'; dlerror: libnvinfer_plugin.so.7: cannot open shared object file: No such file or directory; LD_LIBRARY_PATH: /usr/local/cuda/lib64:/usr/local/cuda/lib:/usr/local/lib/x86_64-linux-gnu:/usr/local/nvidia/lib:/usr/local/nvidia/lib64:/usr/local/nvidia/lib:/usr/local/nvidia/lib64\n",
      "2022-12-05 09:40:56.352929: W tensorflow/compiler/tf2tensorrt/utils/py_utils.cc:38] TF-TRT Warning: Cannot dlopen some TensorRT libraries. If you would like to use Nvidia GPU with TensorRT, please make sure the missing libraries mentioned above are installed properly.\n"
     ]
    }
   ],
   "source": [
    "#Local files\n",
    "from params import *\n",
    "import functions as fun\n",
    "\n",
    "#Google Cloud\n",
    "from google.cloud import storage\n",
    "\n",
    "#TensorFLow\n",
    "from tensorflow.keras.callbacks import EarlyStopping\n",
    "\n",
    "#Sklearn\n",
    "from sklearn.neighbors import NearestNeighbors #Nearest neighbors\n",
    "\n",
    "#MlFlow\n",
    "\n",
    "import mlflow\n",
    "\n",
    "#Extras\n",
    "import numpy as np\n",
    "import pandas as pd\n",
    "from matplotlib import pyplot as plt\n",
    "from PIL import Image\n",
    "from subprocess import Popen, PIPE\n"
   ]
  },
  {
   "cell_type": "code",
   "execution_count": 4,
   "id": "977b3421-081a-4fff-9f95-88bcaa2ab5ac",
   "metadata": {},
   "outputs": [
    {
     "name": "stderr",
     "output_type": "stream",
     "text": [
      "2022-12-05 09:42:16.063274: W tensorflow/stream_executor/platform/default/dso_loader.cc:64] Could not load dynamic library 'libcuda.so.1'; dlerror: libcuda.so.1: cannot open shared object file: No such file or directory; LD_LIBRARY_PATH: /usr/local/cuda/lib64:/usr/local/cuda/lib:/usr/local/lib/x86_64-linux-gnu:/usr/local/nvidia/lib:/usr/local/nvidia/lib64:/usr/local/nvidia/lib:/usr/local/nvidia/lib64\n",
      "2022-12-05 09:42:16.076356: W tensorflow/stream_executor/cuda/cuda_driver.cc:263] failed call to cuInit: UNKNOWN ERROR (303)\n",
      "2022-12-05 09:42:16.076445: I tensorflow/stream_executor/cuda/cuda_diagnostics.cc:156] kernel driver does not appear to be running on this host (62081fbfe000): /proc/driver/nvidia/version does not exist\n",
      "2022-12-05 09:42:16.078074: I tensorflow/core/platform/cpu_feature_guard.cc:193] This TensorFlow binary is optimized with oneAPI Deep Neural Network Library (oneDNN) to use the following CPU instructions in performance-critical operations:  AVX2 AVX512F FMA\n",
      "To enable them in other operations, rebuild TensorFlow with the appropriate compiler flags.\n"
     ]
    }
   ],
   "source": [
    "mlflow.set_tracking_uri(\"https://mlflow.lewagon.ai\")\n",
    "\n",
    "model_uri = f\"models:/{MLFLOW_MODEL_AUTOENCODER}/Production\"\n",
    "\n",
    "model = mlflow.keras.load_model(model_uri=model_uri)"
   ]
  },
  {
   "cell_type": "code",
   "execution_count": 6,
   "id": "8794d304-a790-41b1-bccd-c811e1ec6df7",
   "metadata": {},
   "outputs": [
    {
     "name": "stdout",
     "output_type": "stream",
     "text": [
      "Model: \"model\"\n",
      "_________________________________________________________________\n",
      " Layer (type)                Output Shape              Param #   \n",
      "=================================================================\n",
      " input_1 (InputLayer)        [(None, 100, 100, 3)]     0         \n",
      "                                                                 \n",
      " sequential (Sequential)     (None, 50)                196362    \n",
      "                                                                 \n",
      " sequential_1 (Sequential)   (None, 100, 100, 3)       255363    \n",
      "                                                                 \n",
      "=================================================================\n",
      "Total params: 451,725\n",
      "Trainable params: 451,725\n",
      "Non-trainable params: 0\n",
      "_________________________________________________________________\n"
     ]
    }
   ],
   "source": [
    "model.summary()"
   ]
  },
  {
   "cell_type": "code",
   "execution_count": 8,
   "id": "f67f4870-9ae4-4dcc-a842-efa48e54b034",
   "metadata": {},
   "outputs": [],
   "source": [
    "mlflow.set_tracking_uri(\"https://mlflow.lewagon.ai\")\n",
    "\n",
    "model_uri = f\"models:/{MLFLOW_MODEL_NAME_NN}/Production\"\n",
    "\n",
    "model = mlflow.sklearn.load_model(model_uri=model_uri)"
   ]
  },
  {
   "cell_type": "code",
   "execution_count": 9,
   "id": "f0bd4d8d-e681-470e-9313-46e137e704ad",
   "metadata": {},
   "outputs": [
    {
     "ename": "AttributeError",
     "evalue": "'NearestNeighbors' object has no attribute 'summary'",
     "output_type": "error",
     "traceback": [
      "\u001b[0;31m---------------------------------------------------------------------------\u001b[0m",
      "\u001b[0;31mAttributeError\u001b[0m                            Traceback (most recent call last)",
      "\u001b[0;32m/tmp/ipykernel_1/3470139634.py\u001b[0m in \u001b[0;36m<module>\u001b[0;34m\u001b[0m\n\u001b[0;32m----> 1\u001b[0;31m \u001b[0mmodel\u001b[0m\u001b[0;34m.\u001b[0m\u001b[0msummary\u001b[0m\u001b[0;34m(\u001b[0m\u001b[0;34m)\u001b[0m\u001b[0;34m\u001b[0m\u001b[0;34m\u001b[0m\u001b[0m\n\u001b[0m",
      "\u001b[0;31mAttributeError\u001b[0m: 'NearestNeighbors' object has no attribute 'summary'"
     ]
    }
   ],
   "source": [
    "model.summary()"
   ]
  },
  {
   "cell_type": "markdown",
   "id": "cd972711-b9c5-46af-9aae-f6cd88c60a18",
   "metadata": {},
   "source": [
    "## Get images from bucket and process"
   ]
  },
  {
   "cell_type": "code",
   "execution_count": null,
   "id": "253b9b83-3e12-4227-a04e-0e7edf164814",
   "metadata": {},
   "outputs": [
    {
     "name": "stderr",
     "output_type": "stream",
     "text": [
      "2022-12-02 16:18:53.885090: W tensorflow/stream_executor/platform/default/dso_loader.cc:64] Could not load dynamic library 'libcuda.so.1'; dlerror: libcuda.so.1: cannot open shared object file: No such file or directory; LD_LIBRARY_PATH: /usr/local/cuda/lib64:/usr/local/cuda/lib:/usr/local/lib/x86_64-linux-gnu:/usr/local/nvidia/lib:/usr/local/nvidia/lib64:/usr/local/nvidia/lib:/usr/local/nvidia/lib64\n",
      "2022-12-02 16:18:53.885143: W tensorflow/stream_executor/cuda/cuda_driver.cc:263] failed call to cuInit: UNKNOWN ERROR (303)\n",
      "2022-12-02 16:18:53.885174: I tensorflow/stream_executor/cuda/cuda_diagnostics.cc:156] kernel driver does not appear to be running on this host (895e8d4e9297): /proc/driver/nvidia/version does not exist\n",
      "2022-12-02 16:18:53.885618: I tensorflow/core/platform/cpu_feature_guard.cc:193] This TensorFlow binary is optimized with oneAPI Deep Neural Network Library (oneDNN) to use the following CPU instructions in performance-critical operations:  AVX2 AVX512F FMA\n",
      "To enable them in other operations, rebuild TensorFlow with the appropriate compiler flags.\n"
     ]
    }
   ],
   "source": [
    "data_set = fun.load_data(BUCKET_NAME)"
   ]
  },
  {
   "cell_type": "markdown",
   "id": "994b9432-3601-42c7-8e60-343e5235ed55",
   "metadata": {},
   "source": [
    "## Image Iterator"
   ]
  },
  {
   "cell_type": "code",
   "execution_count": null,
   "id": "e90e845f-3e6b-4428-8ff6-ebd55b95b6fa",
   "metadata": {
    "tags": []
   },
   "outputs": [],
   "source": [
    "np_ds = data_set.as_numpy_iterator()"
   ]
  },
  {
   "cell_type": "code",
   "execution_count": null,
   "id": "8bfce7e4-cfe6-4647-90e7-c3e6942e474c",
   "metadata": {},
   "outputs": [
    {
     "data": {
      "image/png": "[encoded data removed]",
      "text/plain": [
       "<Figure size 640x480 with 1 Axes>"
      ]
     },
     "metadata": {},
     "output_type": "display_data"
    }
   ],
   "source": [
    "plt.imshow(np_ds.__next__()[0][0]);"
   ]
  },
  {
   "cell_type": "markdown",
   "id": "d47bccec-3f8e-4e0c-8e55-a746130c43a0",
   "metadata": {},
   "source": [
    "## Encoding"
   ]
  },
  {
   "cell_type": "code",
   "execution_count": null,
   "id": "65496d86-9754-46dc-a362-a84aaea29f88",
   "metadata": {},
   "outputs": [
    {
     "name": "stdout",
     "output_type": "stream",
     "text": [
      "Model: \"sequential\"\n",
      "_________________________________________________________________\n",
      " Layer (type)                Output Shape              Param #   \n",
      "=================================================================\n",
      " conv2d (Conv2D)             (None, 99, 99, 8)         104       \n",
      "                                                                 \n",
      " max_pooling2d (MaxPooling2D  (None, 49, 49, 8)        0         \n",
      " )                                                               \n",
      "                                                                 \n",
      " conv2d_1 (Conv2D)           (None, 48, 48, 16)        528       \n",
      "                                                                 \n",
      " max_pooling2d_1 (MaxPooling  (None, 24, 24, 16)       0         \n",
      " 2D)                                                             \n",
      "                                                                 \n",
      " conv2d_2 (Conv2D)           (None, 23, 23, 32)        2080      \n",
      "                                                                 \n",
      " max_pooling2d_2 (MaxPooling  (None, 11, 11, 32)       0         \n",
      " 2D)                                                             \n",
      "                                                                 \n",
      " flatten (Flatten)           (None, 3872)              0         \n",
      "                                                                 \n",
      " dense (Dense)               (None, 50)                193650    \n",
      "                                                                 \n",
      "=================================================================\n",
      "Total params: 196,362\n",
      "Trainable params: 196,362\n",
      "Non-trainable params: 0\n",
      "_________________________________________________________________\n"
     ]
    }
   ],
   "source": [
    "encoder = fun.build_encoder(LATENT_DIMENSION)\n",
    "encoder.summary()"
   ]
  },
  {
   "cell_type": "markdown",
   "id": "61dd983c-c368-4e4f-90d0-f66640bf5c58",
   "metadata": {},
   "source": [
    "## Decoders"
   ]
  },
  {
   "cell_type": "code",
   "execution_count": null,
   "id": "be55e539-21bd-4123-8398-56b733d8e23d",
   "metadata": {},
   "outputs": [
    {
     "name": "stdout",
     "output_type": "stream",
     "text": [
      "Model: \"sequential_1\"\n",
      "_________________________________________________________________\n",
      " Layer (type)                Output Shape              Param #   \n",
      "=================================================================\n",
      " dense_1 (Dense)             (None, 5000)              255000    \n",
      "                                                                 \n",
      " reshape (Reshape)           (None, 25, 25, 8)         0         \n",
      "                                                                 \n",
      " conv2d_transpose (Conv2DTra  (None, 50, 50, 8)        264       \n",
      " nspose)                                                         \n",
      "                                                                 \n",
      " conv2d_transpose_1 (Conv2DT  (None, 100, 100, 3)      99        \n",
      " ranspose)                                                       \n",
      "                                                                 \n",
      "=================================================================\n",
      "Total params: 255,363\n",
      "Trainable params: 255,363\n",
      "Non-trainable params: 0\n",
      "_________________________________________________________________\n"
     ]
    }
   ],
   "source": [
    "decoder = fun.build_decoder(LATENT_DIMENSION)\n",
    "decoder.summary()"
   ]
  },
  {
   "cell_type": "markdown",
   "id": "7ed9d1dd-8b5e-4a79-ab9a-27f3e8c9b353",
   "metadata": {},
   "source": [
    "## Autoencoder"
   ]
  },
  {
   "cell_type": "code",
   "execution_count": null,
   "id": "a8461e5f-0f6e-41c2-8b32-a4d0fdfb7dec",
   "metadata": {},
   "outputs": [
    {
     "name": "stdout",
     "output_type": "stream",
     "text": [
      "Model: \"model\"\n",
      "_________________________________________________________________\n",
      " Layer (type)                Output Shape              Param #   \n",
      "=================================================================\n",
      " input_1 (InputLayer)        [(None, 100, 100, 3)]     0         \n",
      "                                                                 \n",
      " sequential (Sequential)     (None, 50)                196362    \n",
      "                                                                 \n",
      " sequential_1 (Sequential)   (None, 100, 100, 3)       255363    \n",
      "                                                                 \n",
      "=================================================================\n",
      "Total params: 451,725\n",
      "Trainable params: 451,725\n",
      "Non-trainable params: 0\n",
      "_________________________________________________________________\n"
     ]
    }
   ],
   "source": [
    "autoencoder = fun.build_autoencoder(encoder, decoder)\n",
    "autoencoder.summary()"
   ]
  },
  {
   "cell_type": "markdown",
   "id": "e0a9f77f-2d34-468a-8826-424983f65596",
   "metadata": {},
   "source": [
    "## Compile"
   ]
  },
  {
   "cell_type": "code",
   "execution_count": null,
   "id": "0dc016b9-3178-4e80-94d5-a78b9b8bfd5e",
   "metadata": {},
   "outputs": [],
   "source": [
    "fun.compile_autoencoder(autoencoder)"
   ]
  },
  {
   "cell_type": "markdown",
   "id": "791efb5a-f030-458e-984a-b96daae1ff44",
   "metadata": {},
   "source": [
    "## Train the Model"
   ]
  },
  {
   "cell_type": "code",
   "execution_count": null,
   "id": "b2da7bfd-bc68-43f5-bcb9-2b8ffe1ebda5",
   "metadata": {},
   "outputs": [
    {
     "name": "stdout",
     "output_type": "stream",
     "text": [
      "Epoch 1/20\n",
      "822/822 [==============================] - 178s 214ms/step - loss: 0.0148\n",
      "Epoch 2/20\n",
      "822/822 [==============================] - 20s 25ms/step - loss: 0.0081\n",
      "Epoch 3/20\n",
      "822/822 [==============================] - 20s 25ms/step - loss: 0.0074\n",
      "Epoch 4/20\n",
      "822/822 [==============================] - 20s 25ms/step - loss: 0.0071\n",
      "Epoch 5/20\n",
      "822/822 [==============================] - 21s 25ms/step - loss: 0.0063\n",
      "Epoch 6/20\n",
      "822/822 [==============================] - 20s 25ms/step - loss: 0.0061\n",
      "Epoch 7/20\n",
      "822/822 [==============================] - 20s 25ms/step - loss: 0.0060\n",
      "Epoch 8/20\n",
      "822/822 [==============================] - 21s 25ms/step - loss: 0.0059\n",
      "Epoch 9/20\n",
      "822/822 [==============================] - 20s 25ms/step - loss: 0.0059\n",
      "Epoch 10/20\n",
      "822/822 [==============================] - 20s 25ms/step - loss: 0.0058\n",
      "Epoch 11/20\n",
      "822/822 [==============================] - 21s 25ms/step - loss: 0.0058\n",
      "Epoch 12/20\n",
      "822/822 [==============================] - 20s 25ms/step - loss: 0.0058\n",
      "Epoch 13/20\n",
      "822/822 [==============================] - 21s 25ms/step - loss: 0.0058\n",
      "Epoch 14/20\n",
      "822/822 [==============================] - 20s 25ms/step - loss: 0.0057\n",
      "Epoch 15/20\n",
      "822/822 [==============================] - 20s 25ms/step - loss: 0.0057\n",
      "Epoch 16/20\n",
      "822/822 [==============================] - 20s 25ms/step - loss: 0.0057\n",
      "Epoch 17/20\n",
      "822/822 [==============================] - 21s 25ms/step - loss: 0.0057\n",
      "Epoch 18/20\n",
      "822/822 [==============================] - 20s 25ms/step - loss: 0.0057\n",
      "Epoch 19/20\n",
      "822/822 [==============================] - 21s 25ms/step - loss: 0.0057\n",
      "Epoch 20/20\n",
      "822/822 [==============================] - 21s 26ms/step - loss: 0.0056\n"
     ]
    },
    {
     "data": {
      "text/plain": [
       "<keras.callbacks.History at 0x7f070dbd88d0>"
      ]
     },
     "execution_count": 10,
     "metadata": {},
     "output_type": "execute_result"
    }
   ],
   "source": [
    "es = EarlyStopping(patience=PATIENCE, restore_best_weights= True)\n",
    "\n",
    "autoencoder.fit(data_set,\n",
    "                epochs = EPOCHS)"
   ]
  },
  {
   "cell_type": "code",
   "execution_count": null,
   "id": "6e585198-a57a-4896-82ab-da8310509cdd",
   "metadata": {},
   "outputs": [],
   "source": [
    "import tensorflow as tf"
   ]
  },
  {
   "cell_type": "code",
   "execution_count": null,
   "id": "aa35fb3b-b7fd-43cd-8c99-d4ff800be8b9",
   "metadata": {},
   "outputs": [],
   "source": [
    "new_model = tf.keras.models.load_model('models/model_loss_0_0056')"
   ]
  },
  {
   "cell_type": "code",
   "execution_count": null,
   "id": "8e93f8d8-d1ee-4214-a5ce-dae3f6968a6a",
   "metadata": {},
   "outputs": [
    {
     "name": "stderr",
     "output_type": "stream",
     "text": [
      "WARNING:absl:Found untraced functions such as _jit_compiled_convolution_op, _jit_compiled_convolution_op, _jit_compiled_convolution_op, _jit_compiled_convolution_op, _jit_compiled_convolution_op while saving (showing 5 of 5). These functions will not be directly callable after loading.\n"
     ]
    },
    {
     "name": "stdout",
     "output_type": "stream",
     "text": [
      "INFO:tensorflow:Assets written to: /tmp/tmpfsju08qw/model/data/model/assets\n"
     ]
    },
    {
     "name": "stderr",
     "output_type": "stream",
     "text": [
      "INFO:tensorflow:Assets written to: /tmp/tmpfsju08qw/model/data/model/assets\n",
      "Registered model 'soundtrack_selector_autoencoder' already exists. Creating a new version of this model...\n",
      "2022/12/02 16:21:05 INFO mlflow.tracking._model_registry.client: Waiting up to 300 seconds for model version to finish creation.                     Model name: soundtrack_selector_autoencoder, version 2\n",
      "Created version '2' of model 'soundtrack_selector_autoencoder'.\n"
     ]
    }
   ],
   "source": [
    "mlflow_tracking_uri = MLFLOW_TRACKING_URI\n",
    "mlflow_experiment_autoencoder = MLFLOW_EXPERIMENT_AUTOENCODER\n",
    "mlflow_model_name_autoencoder = MLFLOW_MODEL_AUTOENCODER\n",
    "\n",
    "\n",
    "mlflow.set_tracking_uri(mlflow_tracking_uri)\n",
    "mlflow.set_experiment(experiment_name=mlflow_experiment_autoencoder)\n",
    "\n",
    "with mlflow.start_run():\n",
    "    \n",
    "    mlflow.keras.log_model(keras_model=new_model,\n",
    "                        artifact_path=\"model\",\n",
    "                        keras_module=\"tensorflow.keras\",\n",
    "                        registered_model_name=mlflow_model_name_autoencoder)\n"
   ]
  },
  {
   "cell_type": "markdown",
   "id": "ab91de08-4414-4aaa-b706-741846e5cbd1",
   "metadata": {},
   "source": [
    "## Save Model"
   ]
  },
  {
   "cell_type": "code",
   "execution_count": null,
   "id": "723e6dd2-a021-4c3b-9582-6334c68792a5",
   "metadata": {},
   "outputs": [
    {
     "name": "stderr",
     "output_type": "stream",
     "text": [
      "WARNING:absl:Found untraced functions such as _jit_compiled_convolution_op, _jit_compiled_convolution_op, _jit_compiled_convolution_op, _jit_compiled_convolution_op, _jit_compiled_convolution_op while saving (showing 5 of 5). These functions will not be directly callable after loading.\n"
     ]
    },
    {
     "name": "stdout",
     "output_type": "stream",
     "text": [
      "INFO:tensorflow:Assets written to: models/model_loss_0_0056/assets\n"
     ]
    },
    {
     "name": "stderr",
     "output_type": "stream",
     "text": [
      "INFO:tensorflow:Assets written to: models/model_loss_0_0056/assets\n"
     ]
    }
   ],
   "source": [
    "loss = '0_0056'\n",
    "name_model = f'model_loss_{loss}' \n",
    "autoencoder.save(f'models/{name_model}')"
   ]
  },
  {
   "cell_type": "markdown",
   "id": "7040c499-5bf1-483d-9227-490478c9a542",
   "metadata": {},
   "source": [
    "## Encode to latent space"
   ]
  },
  {
   "cell_type": "code",
   "execution_count": null,
   "id": "f9fbd7b9-c4c6-448f-bca0-e453a7b5217b",
   "metadata": {},
   "outputs": [
    {
     "name": "stdout",
     "output_type": "stream",
     "text": [
      "822/822 [==============================] - 160s 194ms/step\n"
     ]
    }
   ],
   "source": [
    "prediction = encoder.predict(data_set)"
   ]
  },
  {
   "cell_type": "code",
   "execution_count": null,
   "id": "f17fc19d-1057-47ef-b43b-80496247c299",
   "metadata": {},
   "outputs": [
    {
     "data": {
      "text/plain": [
       "array([[-1.9499330e-02,  1.9351235e-02, -4.5582782e-03, ...,\n",
       "         4.2120893e-02,  4.3597285e-02,  7.6627359e-05],\n",
       "       [ 3.1158740e-02,  5.9746210e-03, -1.6139381e-02, ...,\n",
       "         6.3323458e-03,  4.5793381e-02,  2.5961628e-02],\n",
       "       [ 1.2036078e-02,  8.2600471e-03,  1.7717848e-02, ...,\n",
       "         2.0490151e-02,  1.2115715e-02,  2.3016715e-02],\n",
       "       ...,\n",
       "       [ 3.3704869e-02,  5.6638950e-03,  1.7695952e-02, ...,\n",
       "         4.0180579e-02,  2.2759655e-02,  1.1556832e-02],\n",
       "       [-9.0352714e-04,  4.9886904e-03, -7.7067395e-03, ...,\n",
       "         1.0740945e-02,  1.1449766e-02,  1.4306706e-02],\n",
       "       [-1.8664444e-02,  6.3121039e-03,  1.6967965e-02, ...,\n",
       "         6.4187437e-02,  5.5428363e-02,  3.0378250e-03]], dtype=float32)"
      ]
     },
     "execution_count": 15,
     "metadata": {},
     "output_type": "execute_result"
    }
   ],
   "source": [
    "prediction"
   ]
  },
  {
   "cell_type": "markdown",
   "id": "c9205c2f-b684-45fd-8818-1775e7c6aa65",
   "metadata": {},
   "source": [
    "## Nearest Neighbors"
   ]
  },
  {
   "cell_type": "code",
   "execution_count": null,
   "id": "d8890f54-a35e-435c-b8c4-534b238c7208",
   "metadata": {},
   "outputs": [],
   "source": [
    "nbrs = NearestNeighbors(n_neighbors=5, algorithm='auto').fit(prediction)"
   ]
  },
  {
   "cell_type": "code",
   "execution_count": null,
   "id": "491b5780-091d-4c40-9c01-29d15e870543",
   "metadata": {},
   "outputs": [
    {
     "name": "stderr",
     "output_type": "stream",
     "text": [
      "2022/12/02 16:40:48 WARNING mlflow.sklearn: Model was missing function: predict. Not logging python_function flavor!\n",
      "Registered model 'soundtrack_selector_nn' already exists. Creating a new version of this model...\n",
      "2022/12/02 16:40:54 INFO mlflow.tracking._model_registry.client: Waiting up to 300 seconds for model version to finish creation.                     Model name: soundtrack_selector_nn, version 2\n",
      "Created version '2' of model 'soundtrack_selector_nn'.\n"
     ]
    }
   ],
   "source": [
    "mlflow_tracking_uri = MLFLOW_TRACKING_URI\n",
    "mlflow_experiment_nn = MLFLOW_EXPERIMENT_NN\n",
    "mlflow_model_name_NN = MLFLOW_MODEL_NAME_NN\n",
    "\n",
    "mlflow.set_tracking_uri(mlflow_tracking_uri)\n",
    "mlflow.set_experiment(experiment_name=mlflow_experiment_nn)\n",
    "\n",
    "with mlflow.start_run():\n",
    "    \n",
    "    mlflow.sklearn.log_model(sk_model=nbrs,\n",
    "                        artifact_path=\"model\",\n",
    "                        # sklearn_module=\"sklearn.neighbors\",\n",
    "                        registered_model_name=mlflow_model_name_NN)\n",
    "    "
   ]
  },
  {
   "cell_type": "code",
   "execution_count": null,
   "id": "6f894912-1e36-4637-bc39-11a27f8bdddf",
   "metadata": {},
   "outputs": [
    {
     "ename": "AttributeError",
     "evalue": "'NearestNeighbors' object has no attribute 'save'",
     "output_type": "error",
     "traceback": [
      "\u001b[0;31m---------------------------------------------------------------------------\u001b[0m",
      "\u001b[0;31mAttributeError\u001b[0m                            Traceback (most recent call last)",
      "\u001b[0;32m/tmp/ipykernel_1/2578191634.py\u001b[0m in \u001b[0;36m<module>\u001b[0;34m\u001b[0m\n\u001b[1;32m      1\u001b[0m \u001b[0mloss\u001b[0m \u001b[0;34m=\u001b[0m \u001b[0;34m'nn_0_0056'\u001b[0m\u001b[0;34m\u001b[0m\u001b[0;34m\u001b[0m\u001b[0m\n\u001b[1;32m      2\u001b[0m \u001b[0mname_model\u001b[0m \u001b[0;34m=\u001b[0m \u001b[0;34mf'model_loss_{loss}'\u001b[0m\u001b[0;34m\u001b[0m\u001b[0;34m\u001b[0m\u001b[0m\n\u001b[0;32m----> 3\u001b[0;31m \u001b[0mnbrs\u001b[0m\u001b[0;34m.\u001b[0m\u001b[0msave\u001b[0m\u001b[0;34m(\u001b[0m\u001b[0;34mf'models/{name_model}'\u001b[0m\u001b[0;34m)\u001b[0m\u001b[0;34m\u001b[0m\u001b[0;34m\u001b[0m\u001b[0m\n\u001b[0m",
      "\u001b[0;31mAttributeError\u001b[0m: 'NearestNeighbors' object has no attribute 'save'"
     ]
    }
   ],
   "source": [
    "loss = 'nn_0_0056'\n",
    "name_model = f'model_loss_{loss}' \n",
    "nbrs.save(f'models/{name_model}')"
   ]
  },
  {
   "cell_type": "code",
   "execution_count": null,
   "id": "8fae9692-f322-4ee9-8d7b-e16b45522470",
   "metadata": {},
   "outputs": [],
   "source": [
    "def find_info_in_data(indices):\n",
    "    info = []\n",
    "    image_names = []\n",
    "    titles = []\n",
    "    years = []\n",
    "    genres = []\n",
    "    for i in range(len(indices[0])):\n",
    "        index = indices[0][i]\n",
    "        name = df._get_value(index, \"Image_Name\")\n",
    "        nindex = data.index[data['Image_name'] == name[10:]]\n",
    "        title = (data.loc[nindex, 'Title'].item()).capitalize()\n",
    "        year = data.loc[nindex, 'Year'].item()\n",
    "        genre = data.loc[nindex, 'Genre'].item()\n",
    "        info.append([title, year, genre])\n",
    "        image_names.append(name)\n",
    "    return info, image_names\n",
    "    "
   ]
  },
  {
   "cell_type": "code",
   "execution_count": null,
   "id": "3c7fd46b-66da-42fd-86f4-e71d12f35cb3",
   "metadata": {},
   "outputs": [],
   "source": [
    "def get_image(image_names):\n",
    "    client =  storage.Client()\n",
    "    bucket = client.get_bucket('image-storage-stills')\n",
    "    images = []\n",
    "    for name in image_names:\n",
    "        print(name)\n",
    "        blob = bucket.get_blob(name)\n",
    "        print(blob)\n",
    "        image = blob.download_as_string()\n",
    "        images.append(image)\n",
    "    return images"
   ]
  }
 ],
 "metadata": {
  "kernelspec": {
   "display_name": "TensorFlow 2 (Local)",
   "language": "python",
   "name": "local-tf2"
  },
  "language_info": {
   "codemirror_mode": {
    "name": "ipython",
    "version": 3
   },
   "file_extension": ".py",
   "mimetype": "text/x-python",
   "name": "python",
   "nbconvert_exporter": "python",
   "pygments_lexer": "ipython3",
   "version": "3.7.12"
  }
 },
 "nbformat": 4,
 "nbformat_minor": 5
}
